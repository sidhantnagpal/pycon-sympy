{
 "cells": [
  {
   "cell_type": "code",
   "execution_count": 1,
   "metadata": {},
   "outputs": [],
   "source": [
    "from sympy import *\n",
    "init_printing(use_latex='mathjax')\n",
    "x, y, z = symbols('x,y,z')\n",
    "r, theta = symbols('r,theta', positive=True)"
   ]
  },
  {
   "cell_type": "markdown",
   "metadata": {},
   "source": [
    "## Matrices\n",
    "\n",
    "The SymPy `Matrix` object helps us with small problems in linear algebra."
   ]
  },
  {
   "cell_type": "code",
   "execution_count": 2,
   "metadata": {},
   "outputs": [
    {
     "data": {
      "text/latex": [
       "$$\\left[\\begin{matrix}r \\cos{\\left (\\theta \\right )} & - r \\sin{\\left (\\theta \\right )}\\\\r \\sin{\\left (\\theta \\right )} & r \\cos{\\left (\\theta \\right )}\\end{matrix}\\right]$$"
      ],
      "text/plain": [
       "⎡r⋅cos(θ)  -r⋅sin(θ)⎤\n",
       "⎢                   ⎥\n",
       "⎣r⋅sin(θ)  r⋅cos(θ) ⎦"
      ]
     },
     "execution_count": 2,
     "metadata": {},
     "output_type": "execute_result"
    }
   ],
   "source": [
    "rot = Matrix([[r*cos(theta), -r*sin(theta)],\n",
    "              [r*sin(theta),  r*cos(theta)]])\n",
    "rot"
   ]
  },
  {
   "cell_type": "markdown",
   "metadata": {},
   "source": [
    "### Standard methods"
   ]
  },
  {
   "cell_type": "code",
   "execution_count": 3,
   "metadata": {},
   "outputs": [
    {
     "data": {
      "text/latex": [
       "$$r^{2} \\sin^{2}{\\left (\\theta \\right )} + r^{2} \\cos^{2}{\\left (\\theta \\right )}$$"
      ],
      "text/plain": [
       " 2    2       2    2   \n",
       "r ⋅sin (θ) + r ⋅cos (θ)"
      ]
     },
     "execution_count": 3,
     "metadata": {},
     "output_type": "execute_result"
    }
   ],
   "source": [
    "rot.det()"
   ]
  },
  {
   "cell_type": "code",
   "execution_count": 4,
   "metadata": {},
   "outputs": [
    {
     "data": {
      "text/latex": [
       "$$\\left[\\begin{matrix}- \\frac{\\sin^{2}{\\left (\\theta \\right )}}{r \\cos{\\left (\\theta \\right )}} + \\frac{1}{r \\cos{\\left (\\theta \\right )}} & \\frac{1}{r} \\sin{\\left (\\theta \\right )}\\\\- \\frac{1}{r} \\sin{\\left (\\theta \\right )} & \\frac{1}{r} \\cos{\\left (\\theta \\right )}\\end{matrix}\\right]$$"
      ],
      "text/plain": [
       "⎡     2                       ⎤\n",
       "⎢  sin (θ)       1      sin(θ)⎥\n",
       "⎢- ──────── + ────────  ──────⎥\n",
       "⎢  r⋅cos(θ)   r⋅cos(θ)    r   ⎥\n",
       "⎢                             ⎥\n",
       "⎢      -sin(θ)          cos(θ)⎥\n",
       "⎢      ────────         ──────⎥\n",
       "⎣         r               r   ⎦"
      ]
     },
     "execution_count": 4,
     "metadata": {},
     "output_type": "execute_result"
    }
   ],
   "source": [
    "rot.inv()"
   ]
  },
  {
   "cell_type": "code",
   "execution_count": 5,
   "metadata": {},
   "outputs": [
    {
     "data": {
      "text/latex": [
       "$$\\begin{bmatrix}r, & r\\end{bmatrix}$$"
      ],
      "text/plain": [
       "[r, r]"
      ]
     },
     "execution_count": 5,
     "metadata": {},
     "output_type": "execute_result"
    }
   ],
   "source": [
    "rot.singular_values()"
   ]
  },
  {
   "cell_type": "markdown",
   "metadata": {},
   "source": [
    "### Exercise\n",
    "\n",
    "Find the inverse of the following Matrix:\n",
    "\n",
    "$$ \\left[\\begin{matrix}1 & x\\\\y & 1\\end{matrix}\\right] $$"
   ]
  },
  {
   "cell_type": "code",
   "execution_count": 7,
   "metadata": {},
   "outputs": [],
   "source": [
    "# Create a matrix and use the `.inv` method to find the inverse\n",
    "\n"
   ]
  },
  {
   "cell_type": "markdown",
   "metadata": {},
   "source": [
    "### Operators\n",
    "\n",
    "The standard SymPy operators work on matrices"
   ]
  },
  {
   "cell_type": "code",
   "execution_count": 8,
   "metadata": {},
   "outputs": [
    {
     "data": {
      "text/latex": [
       "$$\\left[\\begin{matrix}2 r \\cos{\\left (\\theta \\right )} & - 2 r \\sin{\\left (\\theta \\right )}\\\\2 r \\sin{\\left (\\theta \\right )} & 2 r \\cos{\\left (\\theta \\right )}\\end{matrix}\\right]$$"
      ],
      "text/plain": [
       "⎡2⋅r⋅cos(θ)  -2⋅r⋅sin(θ)⎤\n",
       "⎢                       ⎥\n",
       "⎣2⋅r⋅sin(θ)  2⋅r⋅cos(θ) ⎦"
      ]
     },
     "execution_count": 8,
     "metadata": {},
     "output_type": "execute_result"
    }
   ],
   "source": [
    "rot * 2"
   ]
  },
  {
   "cell_type": "code",
   "execution_count": 9,
   "metadata": {},
   "outputs": [
    {
     "data": {
      "text/latex": [
       "$$\\left[\\begin{matrix}- r^{2} \\sin^{2}{\\left (\\theta \\right )} + r^{2} \\cos^{2}{\\left (\\theta \\right )} & - 2 r^{2} \\sin{\\left (\\theta \\right )} \\cos{\\left (\\theta \\right )}\\\\2 r^{2} \\sin{\\left (\\theta \\right )} \\cos{\\left (\\theta \\right )} & - r^{2} \\sin^{2}{\\left (\\theta \\right )} + r^{2} \\cos^{2}{\\left (\\theta \\right )}\\end{matrix}\\right]$$"
      ],
      "text/plain": [
       "⎡   2    2       2    2            2                 ⎤\n",
       "⎢- r ⋅sin (θ) + r ⋅cos (θ)     -2⋅r ⋅sin(θ)⋅cos(θ)   ⎥\n",
       "⎢                                                    ⎥\n",
       "⎢      2                       2    2       2    2   ⎥\n",
       "⎣   2⋅r ⋅sin(θ)⋅cos(θ)      - r ⋅sin (θ) + r ⋅cos (θ)⎦"
      ]
     },
     "execution_count": 9,
     "metadata": {},
     "output_type": "execute_result"
    }
   ],
   "source": [
    "rot * rot"
   ]
  },
  {
   "cell_type": "code",
   "execution_count": 10,
   "metadata": {},
   "outputs": [
    {
     "data": {
      "text/latex": [
       "$$\\left[\\begin{matrix}x\\\\y\\end{matrix}\\right]$$"
      ],
      "text/plain": [
       "⎡x⎤\n",
       "⎢ ⎥\n",
       "⎣y⎦"
      ]
     },
     "execution_count": 10,
     "metadata": {},
     "output_type": "execute_result"
    }
   ],
   "source": [
    "v = Matrix([[x], [y]])\n",
    "v"
   ]
  },
  {
   "cell_type": "code",
   "execution_count": 11,
   "metadata": {},
   "outputs": [
    {
     "data": {
      "text/latex": [
       "$$\\left[\\begin{matrix}r x \\cos{\\left (\\theta \\right )} - r y \\sin{\\left (\\theta \\right )}\\\\r x \\sin{\\left (\\theta \\right )} + r y \\cos{\\left (\\theta \\right )}\\end{matrix}\\right]$$"
      ],
      "text/plain": [
       "⎡r⋅x⋅cos(θ) - r⋅y⋅sin(θ)⎤\n",
       "⎢                       ⎥\n",
       "⎣r⋅x⋅sin(θ) + r⋅y⋅cos(θ)⎦"
      ]
     },
     "execution_count": 11,
     "metadata": {},
     "output_type": "execute_result"
    }
   ],
   "source": [
    "rot * v"
   ]
  },
  {
   "cell_type": "markdown",
   "metadata": {},
   "source": [
    "### Exercise\n",
    "\n",
    "In the last exercise you found the inverse of the following matrix"
   ]
  },
  {
   "cell_type": "code",
   "execution_count": 12,
   "metadata": {},
   "outputs": [
    {
     "data": {
      "text/latex": [
       "$$\\left[\\begin{matrix}1 & x\\\\y & 1\\end{matrix}\\right]$$"
      ],
      "text/plain": [
       "⎡1  x⎤\n",
       "⎢    ⎥\n",
       "⎣y  1⎦"
      ]
     },
     "execution_count": 12,
     "metadata": {},
     "output_type": "execute_result"
    }
   ],
   "source": [
    "M = Matrix([[1, x], [y, 1]])\n",
    "M"
   ]
  },
  {
   "cell_type": "code",
   "execution_count": 13,
   "metadata": {},
   "outputs": [
    {
     "data": {
      "text/latex": [
       "$$\\left[\\begin{matrix}\\frac{x y}{- x y + 1} + 1 & - \\frac{x}{- x y + 1}\\\\- \\frac{y}{- x y + 1} & \\frac{1}{- x y + 1}\\end{matrix}\\right]$$"
      ],
      "text/plain": [
       "⎡  x⋅y           -x    ⎤\n",
       "⎢──────── + 1  ────────⎥\n",
       "⎢-x⋅y + 1      -x⋅y + 1⎥\n",
       "⎢                      ⎥\n",
       "⎢    -y           1    ⎥\n",
       "⎢  ────────    ────────⎥\n",
       "⎣  -x⋅y + 1    -x⋅y + 1⎦"
      ]
     },
     "execution_count": 13,
     "metadata": {},
     "output_type": "execute_result"
    }
   ],
   "source": [
    "M.inv()"
   ]
  },
  {
   "cell_type": "markdown",
   "metadata": {},
   "source": [
    "Now verify that this is the true inverse by multiplying the matrix times its inverse.  Do you get the identity matrix back?"
   ]
  },
  {
   "cell_type": "code",
   "execution_count": 14,
   "metadata": {},
   "outputs": [],
   "source": [
    "# Multiply `M` by its inverse.  Do you get back the identity matrix?\n",
    "\n"
   ]
  },
  {
   "cell_type": "markdown",
   "metadata": {},
   "source": [
    "### Exercise\n",
    "\n",
    "What are the eigenvectors and eigenvalues of `M`?"
   ]
  },
  {
   "cell_type": "code",
   "execution_count": 15,
   "metadata": {
    "collapsed": true
   },
   "outputs": [],
   "source": [
    "# Find the methods to compute eigenvectors and eigenvalues. Use these methods on `M`\n",
    "\n"
   ]
  },
  {
   "cell_type": "markdown",
   "metadata": {},
   "source": [
    "### NumPy-like Item access"
   ]
  },
  {
   "cell_type": "code",
   "execution_count": 16,
   "metadata": {},
   "outputs": [
    {
     "data": {
      "text/latex": [
       "$$r \\cos{\\left (\\theta \\right )}$$"
      ],
      "text/plain": [
       "r⋅cos(θ)"
      ]
     },
     "execution_count": 16,
     "metadata": {},
     "output_type": "execute_result"
    }
   ],
   "source": [
    "rot[0, 0]"
   ]
  },
  {
   "cell_type": "code",
   "execution_count": 17,
   "metadata": {},
   "outputs": [
    {
     "data": {
      "text/latex": [
       "$$\\left[\\begin{matrix}r \\cos{\\left (\\theta \\right )}\\\\r \\sin{\\left (\\theta \\right )}\\end{matrix}\\right]$$"
      ],
      "text/plain": [
       "⎡r⋅cos(θ)⎤\n",
       "⎢        ⎥\n",
       "⎣r⋅sin(θ)⎦"
      ]
     },
     "execution_count": 17,
     "metadata": {},
     "output_type": "execute_result"
    }
   ],
   "source": [
    "rot[:, 0]"
   ]
  },
  {
   "cell_type": "code",
   "execution_count": 18,
   "metadata": {},
   "outputs": [
    {
     "data": {
      "text/latex": [
       "$$\\left[\\begin{matrix}r \\sin{\\left (\\theta \\right )} & r \\cos{\\left (\\theta \\right )}\\end{matrix}\\right]$$"
      ],
      "text/plain": [
       "[r⋅sin(θ)  r⋅cos(θ)]"
      ]
     },
     "execution_count": 18,
     "metadata": {},
     "output_type": "execute_result"
    }
   ],
   "source": [
    "rot[1, :]"
   ]
  },
  {
   "cell_type": "markdown",
   "metadata": {},
   "source": [
    "### Mutation\n",
    "\n",
    "We can change elements in the matrix."
   ]
  },
  {
   "cell_type": "code",
   "execution_count": 19,
   "metadata": {},
   "outputs": [
    {
     "data": {
      "text/latex": [
       "$$\\left[\\begin{matrix}r \\cos{\\left (\\theta \\right )} + 1 & - r \\sin{\\left (\\theta \\right )}\\\\r \\sin{\\left (\\theta \\right )} & r \\cos{\\left (\\theta \\right )}\\end{matrix}\\right]$$"
      ],
      "text/plain": [
       "⎡r⋅cos(θ) + 1  -r⋅sin(θ)⎤\n",
       "⎢                       ⎥\n",
       "⎣  r⋅sin(θ)    r⋅cos(θ) ⎦"
      ]
     },
     "execution_count": 19,
     "metadata": {},
     "output_type": "execute_result"
    }
   ],
   "source": [
    "rot[0, 0] += 1\n",
    "rot"
   ]
  },
  {
   "cell_type": "code",
   "execution_count": 20,
   "metadata": {},
   "outputs": [
    {
     "data": {
      "text/latex": [
       "$$r \\left(r + \\cos{\\left (\\theta \\right )}\\right)$$"
      ],
      "text/plain": [
       "r⋅(r + cos(θ))"
      ]
     },
     "execution_count": 20,
     "metadata": {},
     "output_type": "execute_result"
    }
   ],
   "source": [
    "simplify(rot.det())"
   ]
  },
  {
   "cell_type": "code",
   "execution_count": 21,
   "metadata": {},
   "outputs": [
    {
     "data": {
      "text/latex": [
       "$$\\begin{bmatrix}\\sqrt{r^{2} + r \\cos{\\left (\\theta \\right )} + \\frac{1}{2} \\sqrt{4 r^{2} + 4 r \\cos{\\left (\\theta \\right )} + 1} + \\frac{1}{2}}, & \\sqrt{r^{2} + r \\cos{\\left (\\theta \\right )} - \\frac{1}{2} \\sqrt{4 r^{2} + 4 r \\cos{\\left (\\theta \\right )} + 1} + \\frac{1}{2}}\\end{bmatrix}$$"
      ],
      "text/plain": [
       "⎡      ________________________________________________        _______________\n",
       "⎢     ╱                    _______________________            ╱               \n",
       "⎢    ╱                    ╱    2                             ╱                \n",
       "⎢   ╱    2              ╲╱  4⋅r  + 4⋅r⋅cos(θ) + 1    1      ╱    2            \n",
       "⎢  ╱    r  + r⋅cos(θ) + ────────────────────────── + ─ ,   ╱    r  + r⋅cos(θ) \n",
       "⎣╲╱                                 2                2   ╲╱                   \n",
       "\n",
       "_________________________________⎤\n",
       "     _______________________     ⎥\n",
       "    ╱    2                       ⎥\n",
       "  ╲╱  4⋅r  + 4⋅r⋅cos(θ) + 1    1 ⎥\n",
       "- ────────────────────────── + ─ ⎥\n",
       "              2                2 ⎦"
      ]
     },
     "execution_count": 21,
     "metadata": {},
     "output_type": "execute_result"
    }
   ],
   "source": [
    "rot.singular_values()"
   ]
  },
  {
   "cell_type": "markdown",
   "metadata": {},
   "source": [
    "### Exercise\n",
    "\n",
    "Play around with your matrix `M`, manipulating elements in a NumPy like way.  Then try the various methods that we've talked about (or others).  See what sort of answers you get."
   ]
  },
  {
   "cell_type": "code",
   "execution_count": 22,
   "metadata": {},
   "outputs": [],
   "source": [
    "# Play with matrices\n",
    "\n"
   ]
  }
 ],
 "metadata": {
  "kernelspec": {
   "display_name": "Python 3",
   "language": "python",
   "name": "python3"
  },
  "language_info": {
   "codemirror_mode": {
    "name": "ipython",
    "version": 3
   },
   "file_extension": ".py",
   "mimetype": "text/x-python",
   "name": "python",
   "nbconvert_exporter": "python",
   "pygments_lexer": "ipython3",
   "version": "3.7.0"
  }
 },
 "nbformat": 4,
 "nbformat_minor": 1
}
