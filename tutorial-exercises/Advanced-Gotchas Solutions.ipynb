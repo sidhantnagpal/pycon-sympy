{
 "metadata": {
  "name": "",
  "signature": "sha256:6cbe536c182f46c7cfa292cc81f32b31ba3ede18ef1a631b7d53fbcc10dad81a"
 },
 "nbformat": 3,
 "nbformat_minor": 0,
 "worksheets": [
  {
   "cells": [
    {
     "cell_type": "heading",
     "level": 1,
     "metadata": {},
     "source": [
      "Gotchas Solutions"
     ]
    },
    {
     "cell_type": "code",
     "collapsed": false,
     "input": [
      "from sympy import *\n",
      "init_printing()"
     ],
     "language": "python",
     "metadata": {},
     "outputs": [],
     "prompt_number": 13
    },
    {
     "cell_type": "markdown",
     "metadata": {},
     "source": [
      "For each exercise, fill in the function according to its docstring. "
     ]
    },
    {
     "cell_type": "heading",
     "level": 2,
     "metadata": {},
     "source": [
      "Symbols"
     ]
    },
    {
     "cell_type": "markdown",
     "metadata": {},
     "source": [
      "What will be the output of the following code?\n",
      "\n",
      "    x = 3\n",
      "    y = symbols('y')\n",
      "    a = x + y\n",
      "    y = 5\n",
      "    print(a)\n",
      "\n",
      "Replace `???` in the below code with what you think the value of `a` will be.  Remember to define any Symbols you need!"
     ]
    },
    {
     "cell_type": "code",
     "collapsed": false,
     "input": [
      "def symbols_exercise():\n",
      "    \"\"\"\n",
      "    >>> def testfunc():\n",
      "    ...     x = 3\n",
      "    ...     y = symbols('y')\n",
      "    ...     a = x + y\n",
      "    ...     y = 5\n",
      "    ...     return a\n",
      "    >>> symbols_exercise() == testfunc()\n",
      "    True\n",
      "    \"\"\"\n",
      "    y = symbols('y')\n",
      "    return 3 + y"
     ],
     "language": "python",
     "metadata": {},
     "outputs": [],
     "prompt_number": 14
    },
    {
     "cell_type": "code",
     "collapsed": false,
     "input": [
      "def testfunc():\n",
      "    x = 3\n",
      "    y = symbols('y')\n",
      "    a = x + y\n",
      "    y = 5\n",
      "    return a\n",
      "\n",
      "symbols_exercise() == testfunc()"
     ],
     "language": "python",
     "metadata": {},
     "outputs": [
      {
       "metadata": {},
       "output_type": "pyout",
       "prompt_number": 15,
       "text": [
        "True"
       ]
      }
     ],
     "prompt_number": 15
    },
    {
     "cell_type": "heading",
     "level": 2,
     "metadata": {},
     "source": [
      "Equality"
     ]
    },
    {
     "cell_type": "markdown",
     "metadata": {},
     "source": [
      "Write a function that takes two expressions as input, and returns a tuple of two booleans. The first if they are equal symbolically, and the second if they are equal mathematically."
     ]
    },
    {
     "cell_type": "code",
     "collapsed": false,
     "input": [
      "def equality_exercise(a, b):\n",
      "    \"\"\"\n",
      "    Determine if a = b symbolically and mathematically.\n",
      "\n",
      "    Returns a tuple of two booleans. The first is True if a = b symbolically,\n",
      "    the second is True if a = b mathematically.  Note the second may be False\n",
      "    but the two still equal if SymPy is not powerful enough.\n",
      "\n",
      "    Examples\n",
      "    ========\n",
      "\n",
      "    >>> x = symbols('x')\n",
      "    >>> equality_exercise(x, 2)\n",
      "    (False, False)\n",
      "    >>> equality_exercise((x + 1)**2, x**2 + 2*x + 1)\n",
      "    (False, True)\n",
      "    >>> equality_exercise(2*x, 2*x)\n",
      "    (True, True)\n",
      "    \"\"\"\n",
      "    return (a == b, simplify(a - b) == 0)"
     ],
     "language": "python",
     "metadata": {},
     "outputs": [],
     "prompt_number": 16
    },
    {
     "cell_type": "code",
     "collapsed": false,
     "input": [
      "x = symbols('x')"
     ],
     "language": "python",
     "metadata": {},
     "outputs": [],
     "prompt_number": 17
    },
    {
     "cell_type": "code",
     "collapsed": false,
     "input": [
      "equality_exercise(x, 2)"
     ],
     "language": "python",
     "metadata": {},
     "outputs": [
      {
       "metadata": {},
       "output_type": "pyout",
       "prompt_number": 18,
       "text": [
        "(False, False)"
       ]
      }
     ],
     "prompt_number": 18
    },
    {
     "cell_type": "code",
     "collapsed": false,
     "input": [
      "equality_exercise((x + 1)**2, x**2 + 2*x + 1)"
     ],
     "language": "python",
     "metadata": {},
     "outputs": [
      {
       "metadata": {},
       "output_type": "pyout",
       "prompt_number": 19,
       "text": [
        "(False, True)"
       ]
      }
     ],
     "prompt_number": 19
    },
    {
     "cell_type": "code",
     "collapsed": false,
     "input": [
      "equality_exercise(2*x, 2*x)"
     ],
     "language": "python",
     "metadata": {},
     "outputs": [
      {
       "metadata": {},
       "output_type": "pyout",
       "prompt_number": 20,
       "text": [
        "(True, True)"
       ]
      }
     ],
     "prompt_number": 20
    },
    {
     "cell_type": "heading",
     "level": 2,
     "metadata": {},
     "source": [
      "`^` and `/`"
     ]
    },
    {
     "cell_type": "markdown",
     "metadata": {},
     "source": [
      "Correct the following functions"
     ]
    },
    {
     "cell_type": "code",
     "collapsed": false,
     "input": [
      "def operator_exercise1():\n",
      "    \"\"\"\n",
      "    >>> operator_exercise1()\n",
      "    x**2 + 2*x + 1/2\n",
      "    \"\"\"\n",
      "    x = symbols('x')\n",
      "    return x**2 + 2*x + Rational(1, 2)"
     ],
     "language": "python",
     "metadata": {},
     "outputs": [],
     "prompt_number": 21
    },
    {
     "cell_type": "code",
     "collapsed": false,
     "input": [
      "operator_exercise1()"
     ],
     "language": "python",
     "metadata": {},
     "outputs": [
      {
       "latex": [
        "$$x^{2} + 2 x + \\frac{1}{2}$$"
       ],
       "metadata": {},
       "output_type": "pyout",
       "png": "[encoded data removed]",
       "prompt_number": 22,
       "text": [
        " 2         1\n",
        "x  + 2\u22c5x + \u2500\n",
        "           2"
       ]
      }
     ],
     "prompt_number": 22
    },
    {
     "cell_type": "code",
     "collapsed": false,
     "input": [
      "def operator_exercise2():\n",
      "    \"\"\"\n",
      "    >>> operator_exercise2()\n",
      "    (x**2/2 + 2*x + 3/4)**(3/2)\n",
      "    \"\"\"\n",
      "    x = symbols('x')\n",
      "    return (x**2/2 + 2*x + Rational(3, 4))**Rational(3, 2)"
     ],
     "language": "python",
     "metadata": {},
     "outputs": [],
     "prompt_number": 23
    },
    {
     "cell_type": "code",
     "collapsed": false,
     "input": [
      "operator_exercise2()"
     ],
     "language": "python",
     "metadata": {},
     "outputs": [
      {
       "latex": [
        "$$\\left(\\frac{x^{2}}{2} + 2 x + \\frac{3}{4}\\right)^{\\frac{3}{2}}$$"
       ],
       "metadata": {},
       "output_type": "pyout",
       "png": "[encoded data removed]",
       "prompt_number": 24,
       "text": [
        "              3/2\n",
        "\u239b 2          \u239e   \n",
        "\u239cx          3\u239f   \n",
        "\u239c\u2500\u2500 + 2\u22c5x + \u2500\u239f   \n",
        "\u239d2          4\u23a0   "
       ]
      }
     ],
     "prompt_number": 24
    },
    {
     "cell_type": "code",
     "collapsed": false,
     "input": [],
     "language": "python",
     "metadata": {},
     "outputs": []
    }
   ],
   "metadata": {}
  }
 ]
}